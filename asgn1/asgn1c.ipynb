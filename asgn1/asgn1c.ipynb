{
 "cells": [
  {
   "cell_type": "code",
   "execution_count": 1,
   "metadata": {
    "collapsed": true
   },
   "outputs": [],
   "source": [
    "import pandas as pd\n",
    "import numpy as np"
   ]
  },
  {
   "cell_type": "code",
   "execution_count": 2,
   "metadata": {},
   "outputs": [
    {
     "data": {
      "text/html": [
       "<div>\n",
       "<style>\n",
       "    .dataframe thead tr:only-child th {\n",
       "        text-align: right;\n",
       "    }\n",
       "\n",
       "    .dataframe thead th {\n",
       "        text-align: left;\n",
       "    }\n",
       "\n",
       "    .dataframe tbody tr th {\n",
       "        vertical-align: top;\n",
       "    }\n",
       "</style>\n",
       "<table border=\"1\" class=\"dataframe\">\n",
       "  <thead>\n",
       "    <tr style=\"text-align: right;\">\n",
       "      <th></th>\n",
       "      <th>sqft</th>\n",
       "      <th>floors</th>\n",
       "      <th>bedrooms</th>\n",
       "      <th>bathrooms</th>\n",
       "      <th>price</th>\n",
       "    </tr>\n",
       "  </thead>\n",
       "  <tbody>\n",
       "    <tr>\n",
       "      <th>0</th>\n",
       "      <td>5650</td>\n",
       "      <td>1.0</td>\n",
       "      <td>3</td>\n",
       "      <td>1.00</td>\n",
       "      <td>221900.0</td>\n",
       "    </tr>\n",
       "    <tr>\n",
       "      <th>1</th>\n",
       "      <td>7242</td>\n",
       "      <td>2.0</td>\n",
       "      <td>3</td>\n",
       "      <td>2.25</td>\n",
       "      <td>538000.0</td>\n",
       "    </tr>\n",
       "    <tr>\n",
       "      <th>2</th>\n",
       "      <td>10000</td>\n",
       "      <td>1.0</td>\n",
       "      <td>2</td>\n",
       "      <td>1.00</td>\n",
       "      <td>180000.0</td>\n",
       "    </tr>\n",
       "    <tr>\n",
       "      <th>3</th>\n",
       "      <td>5000</td>\n",
       "      <td>1.0</td>\n",
       "      <td>4</td>\n",
       "      <td>3.00</td>\n",
       "      <td>604000.0</td>\n",
       "    </tr>\n",
       "    <tr>\n",
       "      <th>4</th>\n",
       "      <td>8080</td>\n",
       "      <td>1.0</td>\n",
       "      <td>3</td>\n",
       "      <td>2.00</td>\n",
       "      <td>510000.0</td>\n",
       "    </tr>\n",
       "  </tbody>\n",
       "</table>\n",
       "</div>"
      ],
      "text/plain": [
       "    sqft  floors  bedrooms  bathrooms     price\n",
       "0   5650     1.0         3       1.00  221900.0\n",
       "1   7242     2.0         3       2.25  538000.0\n",
       "2  10000     1.0         2       1.00  180000.0\n",
       "3   5000     1.0         4       3.00  604000.0\n",
       "4   8080     1.0         3       2.00  510000.0"
      ]
     },
     "execution_count": 2,
     "metadata": {},
     "output_type": "execute_result"
    }
   ],
   "source": [
    "raw_data = pd.read_csv(\"kc_house_data.csv\")\n",
    "raw_data.head()"
   ]
  },
  {
   "cell_type": "code",
   "execution_count": 3,
   "metadata": {
    "collapsed": true
   },
   "outputs": [],
   "source": [
    "data = np.array(raw_data)"
   ]
  },
  {
   "cell_type": "code",
   "execution_count": 4,
   "metadata": {
    "collapsed": true
   },
   "outputs": [],
   "source": [
    "no_of_examples = data.shape[0]\n",
    "no_of_features = data.shape[1]-1"
   ]
  },
  {
   "cell_type": "code",
   "execution_count": 5,
   "metadata": {},
   "outputs": [
    {
     "data": {
      "text/plain": [
       "17290"
      ]
     },
     "execution_count": 5,
     "metadata": {},
     "output_type": "execute_result"
    }
   ],
   "source": [
    "no_train = int(0.8*no_of_examples)\n",
    "no_train"
   ]
  },
  {
   "cell_type": "code",
   "execution_count": 6,
   "metadata": {
    "collapsed": true
   },
   "outputs": [],
   "source": [
    "X_train = data[:no_train,:-1]\n",
    "y_train = data[:no_train,-1]\n",
    "X_test = data[no_train:,:-1]\n",
    "y_test = data[no_train:,-1].reshape(-1,1)"
   ]
  },
  {
   "cell_type": "code",
   "execution_count": 7,
   "metadata": {
    "collapsed": true
   },
   "outputs": [],
   "source": [
    "X_mean = np.mean(X_train,axis=0)\n",
    "X_std = np.std(X_train,axis=0)\n",
    "X_train = (X_train - X_mean)/X_std\n",
    "X_test = (X_test-X_mean)/X_std"
   ]
  },
  {
   "cell_type": "code",
   "execution_count": 8,
   "metadata": {
    "collapsed": true
   },
   "outputs": [],
   "source": [
    "y_mean = np.mean(y_train,axis=0)\n",
    "y_std = np.std(y_train,axis=0)\n",
    "y_train = (y_train - y_mean)/y_std"
   ]
  },
  {
   "cell_type": "code",
   "execution_count": null,
   "metadata": {
    "collapsed": true
   },
   "outputs": [],
   "source": []
  },
  {
   "cell_type": "code",
   "execution_count": 9,
   "metadata": {
    "collapsed": true
   },
   "outputs": [],
   "source": [
    "class Linear_model:\n",
    "    def __init__(self,m,X,y):\n",
    "        #self.W = np.zeros((m,1))\n",
    "        self.W = np.random.rand(m,1)\n",
    "        self.b = 0\n",
    "        self.X = X\n",
    "        self.N = X.shape[0]\n",
    "        self.y = y.reshape((self.N,1))\n",
    "        \n",
    "        \n",
    "    def train(self, lr = 0.1, reg = 0):\n",
    "        pred = (self.X).dot(self.W) + self.b\n",
    "        err = pred - self.y\n",
    "        err2 = err**2\n",
    "        loss = np.sum(err2)/self.N\n",
    "        loss += reg*np.sum(self.W**2)\n",
    "        \n",
    "        grad = (self.X).T.dot(err)\n",
    "        grad *= 2/self.N\n",
    "        \n",
    "        grad += 2*reg*self.W\n",
    "        \n",
    "        self.W -= lr*grad\n",
    "        self.b -= lr*np.sum(err)*2/self.N\n",
    "        \n",
    "        return loss\n",
    "    \n",
    "    def evaluate(self,X_test):\n",
    "        return (X_test).dot(self.W) + self.b      \n",
    "        \n",
    "        \n",
    "        "
   ]
  },
  {
   "cell_type": "code",
   "execution_count": 10,
   "metadata": {
    "collapsed": true
   },
   "outputs": [],
   "source": [
    "lrs = [0.001,0.002,0.005,0.01,0.02,0.05,0.08,0.1]"
   ]
  },
  {
   "cell_type": "code",
   "execution_count": 11,
   "metadata": {},
   "outputs": [
    {
     "data": {
      "text/plain": [
       "[342296.48845890915,\n",
       " 315069.74278718379,\n",
       " 316325.5930436292,\n",
       " 315164.20597360423,\n",
       " 314939.52163512638,\n",
       " 314935.64274217235,\n",
       " 314935.64270710858,\n",
       " 314935.64270710829]"
      ]
     },
     "execution_count": 11,
     "metadata": {},
     "output_type": "execute_result"
    }
   ],
   "source": [
    "no_of_epochs = 500\n",
    "loss_linear = []\n",
    "for l in lrs:\n",
    "    model = Linear_model(no_of_features, X_train,y_train)\n",
    "    for i in range(no_of_epochs):\n",
    "        loss = model.train(lr=l)\n",
    "    pred_test = model.evaluate(X_test)\n",
    "    pred_test = (pred_test)*y_std + y_mean\n",
    "    #test_loss = np.sqrt(np.sum(((pred_test - y_test)**2))/X_test.shape[0])\n",
    "    test_loss = np.sqrt(np.mean(np.square(pred_test - y_test)))\n",
    "    loss_linear.append(test_loss)\n",
    "loss_linear"
   ]
  },
  {
   "cell_type": "code",
   "execution_count": 12,
   "metadata": {
    "collapsed": true
   },
   "outputs": [],
   "source": [
    "import matplotlib.pyplot as plt"
   ]
  },
  {
   "cell_type": "code",
   "execution_count": 13,
   "metadata": {},
   "outputs": [
    {
     "data": {
      "text/plain": [
       "Text(0,0.5,'RMSE')"
      ]
     },
     "execution_count": 13,
     "metadata": {},
     "output_type": "execute_result"
    },
    {
     "data": {
      "image/png": "[encoded data removed]",
      "text/plain": [
       "<matplotlib.figure.Figure at 0x7f576d8bdeb8>"
      ]
     },
     "metadata": {},
     "output_type": "display_data"
    }
   ],
   "source": [
    "%matplotlib inline\n",
    "plt.plot(lrs,loss_linear)\n",
    "plt.xlabel(\"Learning Rate\")\n",
    "plt.ylabel(\"RMSE\")"
   ]
  },
  {
   "cell_type": "code",
   "execution_count": 20,
   "metadata": {},
   "outputs": [
    {
     "name": "stdout",
     "output_type": "stream",
     "text": [
      "(17290, 14) (4323, 14) (17290,) (4323, 1)\n"
     ]
    }
   ],
   "source": [
    "X_train_q = data[:no_train,:-1]\n",
    "y_train_q = data[:no_train,-1]\n",
    "X_test_q = data[no_train:,:-1]\n",
    "y_test_q = data[no_train:,-1].reshape(-1,1)\n",
    "for i in range(no_of_features):\n",
    "    for j in range(i,no_of_features):\n",
    "        new = X_train_q[:,i]*X_train_q[:,j]\n",
    "        new = new.reshape(new.shape[0],1)\n",
    "        X_train_q = np.concatenate((X_train_q,new),axis=1)\n",
    "        new = X_test_q[:,i]*X_test_q[:,j]\n",
    "        new = new.reshape(new.shape[0],1)\n",
    "        X_test_q = np.concatenate((X_test_q,new),axis=1)\n",
    "        \n",
    "X_mean_q = np.mean(X_train_q,axis=0)\n",
    "X_std_q = np.std(X_train_q,axis=0)\n",
    "X_train_q = (X_train_q - X_mean_q)/X_std_q\n",
    "X_test_q = (X_test_q-X_mean_q)/X_std_q\n",
    "\n",
    "y_mean_q = np.mean(y_train_q,axis=0)\n",
    "y_std_q = np.std(y_train_q,axis=0)\n",
    "y_train_q = (y_train_q - y_mean_q)/y_std_q\n",
    "\n",
    "print(X_train_q.shape,X_test_q.shape,y_train_q.shape,y_test_q.shape)"
   ]
  },
  {
   "cell_type": "code",
   "execution_count": 21,
   "metadata": {},
   "outputs": [
    {
     "name": "stdout",
     "output_type": "stream",
     "text": [
      "14\n"
     ]
    },
    {
     "data": {
      "text/plain": [
       "[367937.95210463495,\n",
       " 326284.27360339183,\n",
       " 310638.19493092678,\n",
       " 310471.68898420298,\n",
       " 307408.29434607184,\n",
       " 305435.4538873065,\n",
       " 303552.34809540614,\n",
       " 303760.40970257891]"
      ]
     },
     "execution_count": 21,
     "metadata": {},
     "output_type": "execute_result"
    }
   ],
   "source": [
    "no_of_epochs = 300\n",
    "no_of_features_q = X_train_q.shape[1]\n",
    "print(no_of_features_q)\n",
    "losses = {}\n",
    "loss_quad = []\n",
    "for l in lrs:\n",
    "    model = Linear_model(no_of_features_q, X_train_q,y_train_q)\n",
    "    losses[l] = []\n",
    "    for i in range(no_of_epochs):\n",
    "        loss = model.train(lr=l)\n",
    "        losses[l].append(loss)\n",
    "    pred_test = model.evaluate(X_test_q)\n",
    "    pred_test = pred_test*y_std_q + y_mean_q\n",
    "    #test_loss = np.sqrt(np.sum((np.square(pred_test - y_test_q)))/X_test_q.shape[0])\n",
    "    test_loss = np.sqrt(np.mean(np.square(pred_test - y_test_q)))\n",
    "    loss_quad.append(test_loss)\n",
    "loss_quad"
   ]
  },
  {
   "cell_type": "code",
   "execution_count": 22,
   "metadata": {},
   "outputs": [
    {
     "data": {
      "text/plain": [
       "Text(0,0.5,'RMSE')"
      ]
     },
     "execution_count": 22,
     "metadata": {},
     "output_type": "execute_result"
    },
    {
     "data": {
      "image/png": "[encoded data removed]",
      "text/plain": [
       "<matplotlib.figure.Figure at 0x7f576d4a7c18>"
      ]
     },
     "metadata": {},
     "output_type": "display_data"
    }
   ],
   "source": [
    "plt.plot(lrs,loss_quad)\n",
    "plt.xlabel(\"Learning Rate\")\n",
    "plt.ylabel(\"RMSE\")"
   ]
  },
  {
   "cell_type": "code",
   "execution_count": 23,
   "metadata": {},
   "outputs": [
    {
     "name": "stdout",
     "output_type": "stream",
     "text": [
      "(17290, 24) (4323, 24) (17290,) (4323, 1)\n"
     ]
    }
   ],
   "source": [
    "X_train_c = data[:no_train,:-1]\n",
    "y_train_c = data[:no_train,-1]\n",
    "X_test_c = data[no_train:,:-1]\n",
    "y_test_c = data[no_train:,-1].reshape(-1,1)\n",
    "for i in range(no_of_features):\n",
    "    for j in range(i,no_of_features):\n",
    "        for k in range(j,no_of_features):\n",
    "            new = X_train_c[:,i]*X_train_c[:,j]\n",
    "            new = new.reshape(new.shape[0],1)\n",
    "            X_train_c = np.concatenate((X_train_c,new),axis=1)\n",
    "            new = X_test_c[:,i]*X_test_c[:,j]\n",
    "            new = new.reshape(new.shape[0],1)\n",
    "            X_test_c = np.concatenate((X_test_c,new),axis=1)\n",
    "        \n",
    "X_mean_c = np.mean(X_train_c,axis=0)\n",
    "X_std_c = np.std(X_train_c,axis=0)\n",
    "X_train_c = (X_train_c - X_mean_c)/X_std_c\n",
    "X_test_c = (X_test_c-X_mean_c)/X_std_c\n",
    "\n",
    "y_mean_c = np.mean(y_train_c,axis=0)\n",
    "y_std_c = np.std(y_train_c,axis=0)\n",
    "y_train_c = (y_train_c - y_mean_c)/y_std_c\n",
    "\n",
    "print(X_train_c.shape,X_test_c.shape,y_train_c.shape,y_test_c.shape)"
   ]
  },
  {
   "cell_type": "code",
   "execution_count": 24,
   "metadata": {},
   "outputs": [
    {
     "name": "stdout",
     "output_type": "stream",
     "text": [
      "24\n"
     ]
    },
    {
     "data": {
      "text/plain": [
       "[307855.9378250619,\n",
       " 309819.19188192114,\n",
       " 305059.86732360057,\n",
       " 303901.63584656554,\n",
       " 303245.20315250626,\n",
       " 303289.87063609966,\n",
       " 303296.8509255714,\n",
       " 303296.41811985377]"
      ]
     },
     "execution_count": 24,
     "metadata": {},
     "output_type": "execute_result"
    }
   ],
   "source": [
    "no_of_epochs = 3000\n",
    "no_of_features_c = X_train_c.shape[1]\n",
    "print(no_of_features_c)\n",
    "losses = {}\n",
    "loss_cube = []\n",
    "for l in lrs:\n",
    "    model = Linear_model(no_of_features_c, X_train_c,y_train_c)\n",
    "    losses[l] = []\n",
    "    for i in range(no_of_epochs):\n",
    "        loss = model.train(lr=l)\n",
    "        losses[l].append(loss)\n",
    "    pred_test = model.evaluate(X_test_c)\n",
    "    pred_test = (pred_test)*y_std_c + y_mean_c\n",
    "    #test_loss = np.sqrt(np.sum((np.square(pred_test - y_test_q)))/X_test_q.shape[0])\n",
    "    test_loss = np.sqrt(np.mean(np.square(pred_test - y_test_c)))\n",
    "    loss_cube.append(test_loss)\n",
    "loss_cube"
   ]
  },
  {
   "cell_type": "code",
   "execution_count": 25,
   "metadata": {},
   "outputs": [
    {
     "data": {
      "text/plain": [
       "Text(0,0.5,'RMSE')"
      ]
     },
     "execution_count": 25,
     "metadata": {},
     "output_type": "execute_result"
    },
    {
     "data": {
      "image/png": "[encoded data removed]",
      "text/plain": [
       "<matplotlib.figure.Figure at 0x7f576d4a5550>"
      ]
     },
     "metadata": {},
     "output_type": "display_data"
    }
   ],
   "source": [
    "plt.plot(lrs,loss_cube)\n",
    "plt.xlabel(\"Learning Rate\")\n",
    "plt.ylabel(\"RMSE\")"
   ]
  },
  {
   "cell_type": "code",
   "execution_count": null,
   "metadata": {
    "collapsed": true
   },
   "outputs": [],
   "source": []
  },
  {
   "cell_type": "code",
   "execution_count": null,
   "metadata": {
    "collapsed": true
   },
   "outputs": [],
   "source": []
  },
  {
   "cell_type": "code",
   "execution_count": null,
   "metadata": {
    "collapsed": true
   },
   "outputs": [],
   "source": []
  }
 ],
 "metadata": {
  "kernelspec": {
   "display_name": "Python 3",
   "language": "python",
   "name": "python3"
  },
  "language_info": {
   "codemirror_mode": {
    "name": "ipython",
    "version": 3
   },
   "file_extension": ".py",
   "mimetype": "text/x-python",
   "name": "python",
   "nbconvert_exporter": "python",
   "pygments_lexer": "ipython3",
   "version": "3.6.3"
  }
 },
 "nbformat": 4,
 "nbformat_minor": 2
}
