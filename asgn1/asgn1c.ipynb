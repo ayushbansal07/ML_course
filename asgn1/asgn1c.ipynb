{
 "cells": [
  {
   "cell_type": "code",
   "execution_count": 127,
   "metadata": {
    "collapsed": true
   },
   "outputs": [],
   "source": [
    "import pandas as pd\n",
    "import numpy as np"
   ]
  },
  {
   "cell_type": "code",
   "execution_count": 128,
   "metadata": {},
   "outputs": [
    {
     "data": {
      "text/html": [
       "<div>\n",
       "<style>\n",
       "    .dataframe thead tr:only-child th {\n",
       "        text-align: right;\n",
       "    }\n",
       "\n",
       "    .dataframe thead th {\n",
       "        text-align: left;\n",
       "    }\n",
       "\n",
       "    .dataframe tbody tr th {\n",
       "        vertical-align: top;\n",
       "    }\n",
       "</style>\n",
       "<table border=\"1\" class=\"dataframe\">\n",
       "  <thead>\n",
       "    <tr style=\"text-align: right;\">\n",
       "      <th></th>\n",
       "      <th>sqft</th>\n",
       "      <th>floors</th>\n",
       "      <th>bedrooms</th>\n",
       "      <th>bathrooms</th>\n",
       "      <th>price</th>\n",
       "    </tr>\n",
       "  </thead>\n",
       "  <tbody>\n",
       "    <tr>\n",
       "      <th>0</th>\n",
       "      <td>5650</td>\n",
       "      <td>1.0</td>\n",
       "      <td>3</td>\n",
       "      <td>1.00</td>\n",
       "      <td>221900.0</td>\n",
       "    </tr>\n",
       "    <tr>\n",
       "      <th>1</th>\n",
       "      <td>7242</td>\n",
       "      <td>2.0</td>\n",
       "      <td>3</td>\n",
       "      <td>2.25</td>\n",
       "      <td>538000.0</td>\n",
       "    </tr>\n",
       "    <tr>\n",
       "      <th>2</th>\n",
       "      <td>10000</td>\n",
       "      <td>1.0</td>\n",
       "      <td>2</td>\n",
       "      <td>1.00</td>\n",
       "      <td>180000.0</td>\n",
       "    </tr>\n",
       "    <tr>\n",
       "      <th>3</th>\n",
       "      <td>5000</td>\n",
       "      <td>1.0</td>\n",
       "      <td>4</td>\n",
       "      <td>3.00</td>\n",
       "      <td>604000.0</td>\n",
       "    </tr>\n",
       "    <tr>\n",
       "      <th>4</th>\n",
       "      <td>8080</td>\n",
       "      <td>1.0</td>\n",
       "      <td>3</td>\n",
       "      <td>2.00</td>\n",
       "      <td>510000.0</td>\n",
       "    </tr>\n",
       "  </tbody>\n",
       "</table>\n",
       "</div>"
      ],
      "text/plain": [
       "    sqft  floors  bedrooms  bathrooms     price\n",
       "0   5650     1.0         3       1.00  221900.0\n",
       "1   7242     2.0         3       2.25  538000.0\n",
       "2  10000     1.0         2       1.00  180000.0\n",
       "3   5000     1.0         4       3.00  604000.0\n",
       "4   8080     1.0         3       2.00  510000.0"
      ]
     },
     "execution_count": 128,
     "metadata": {},
     "output_type": "execute_result"
    }
   ],
   "source": [
    "raw_data = pd.read_csv(\"kc_house_data.csv\")\n",
    "raw_data.head()"
   ]
  },
  {
   "cell_type": "code",
   "execution_count": 129,
   "metadata": {
    "collapsed": true
   },
   "outputs": [],
   "source": [
    "data = np.array(raw_data)"
   ]
  },
  {
   "cell_type": "code",
   "execution_count": 130,
   "metadata": {
    "collapsed": true
   },
   "outputs": [],
   "source": [
    "no_of_examples = data.shape[0]\n",
    "no_of_features = data.shape[1]-1"
   ]
  },
  {
   "cell_type": "code",
   "execution_count": 131,
   "metadata": {},
   "outputs": [
    {
     "data": {
      "text/plain": [
       "17290"
      ]
     },
     "execution_count": 131,
     "metadata": {},
     "output_type": "execute_result"
    }
   ],
   "source": [
    "no_train = int(0.8*no_of_examples)\n",
    "no_train"
   ]
  },
  {
   "cell_type": "code",
   "execution_count": 132,
   "metadata": {
    "collapsed": true
   },
   "outputs": [],
   "source": [
    "X_train = data[:no_train,:-1]\n",
    "y_train = data[:no_train,-1]\n",
    "X_test = data[no_train:,:-1]\n",
    "y_test = data[no_train:,-1].reshape(-1,1)"
   ]
  },
  {
   "cell_type": "code",
   "execution_count": 133,
   "metadata": {
    "collapsed": true
   },
   "outputs": [],
   "source": [
    "X_mean = np.mean(X_train,axis=0)\n",
    "X_std = np.std(X_train,axis=0)\n",
    "X_train = (X_train - X_mean)/X_std\n",
    "X_test = (X_test-X_mean)/X_std"
   ]
  },
  {
   "cell_type": "code",
   "execution_count": 134,
   "metadata": {
    "collapsed": true
   },
   "outputs": [],
   "source": [
    "y_mean = np.mean(y_train,axis=0)\n",
    "y_std = np.std(y_train,axis=0)\n",
    "y_train = (y_train - y_mean)/y_std"
   ]
  },
  {
   "cell_type": "code",
   "execution_count": null,
   "metadata": {
    "collapsed": true
   },
   "outputs": [],
   "source": []
  },
  {
   "cell_type": "code",
   "execution_count": 135,
   "metadata": {
    "collapsed": true
   },
   "outputs": [],
   "source": [
    "class Linear_model:\n",
    "    def __init__(self,m,X,y):\n",
    "        #self.W = np.zeros((m,1))\n",
    "        self.W = np.random.rand(m,1)\n",
    "        self.b = 0\n",
    "        self.X = X\n",
    "        self.N = X.shape[0]\n",
    "        self.y = y.reshape((self.N,1))\n",
    "        \n",
    "        \n",
    "    def train(self, lr = 0.1, reg = 0):\n",
    "        pred = (self.X).dot(self.W) + self.b\n",
    "        err = pred - self.y\n",
    "        err2 = err**2\n",
    "        loss = np.sum(err2)/self.N\n",
    "        loss += reg*np.sum(self.W**2)\n",
    "        \n",
    "        grad = (self.X).T.dot(err)\n",
    "        grad *= 2/self.N\n",
    "        \n",
    "        grad += 2*reg*self.W\n",
    "        \n",
    "        self.W -= lr*grad\n",
    "        self.b -= lr*np.sum(err)*2/self.N\n",
    "        \n",
    "        return loss\n",
    "    \n",
    "    def evaluate(self,X_test):\n",
    "        return (X_test).dot(self.W) + self.b      \n",
    "        \n",
    "        \n",
    "        "
   ]
  },
  {
   "cell_type": "code",
   "execution_count": 136,
   "metadata": {
    "collapsed": true
   },
   "outputs": [],
   "source": [
    "lrs = [0.001,0.002,0.005,0.01,0.02,0.05,0.08,0.1]"
   ]
  },
  {
   "cell_type": "code",
   "execution_count": 137,
   "metadata": {},
   "outputs": [
    {
     "name": "stdout",
     "output_type": "stream",
     "text": [
      "Linear Combination of features\n",
      "Learning Rate: 0.001, Test Loss: \t 324296.64875\n",
      "Learning Rate: 0.002, Test Loss: \t 321337.192672\n",
      "Learning Rate: 0.005, Test Loss: \t 315227.686107\n",
      "Learning Rate: 0.01, Test Loss: \t 314939.116649\n",
      "Learning Rate: 0.02, Test Loss: \t 314935.644301\n",
      "Learning Rate: 0.05, Test Loss: \t 314935.642707\n",
      "Learning Rate: 0.08, Test Loss: \t 314935.642707\n",
      "Learning Rate: 0.1, Test Loss: \t 314935.642707\n"
     ]
    }
   ],
   "source": [
    "no_of_epochs = 1000\n",
    "loss_linear = []\n",
    "linear_params = {}\n",
    "for l in lrs:\n",
    "    model = Linear_model(no_of_features, X_train,y_train)\n",
    "    for i in range(no_of_epochs):\n",
    "        loss = model.train(lr=l)\n",
    "    pred_test = model.evaluate(X_test)\n",
    "    pred_test = (pred_test)*y_std + y_mean\n",
    "    #test_loss = np.sqrt(np.sum(((pred_test - y_test)**2))/X_test.shape[0])\n",
    "    test_loss = np.sqrt(np.mean(np.square(pred_test - y_test)))\n",
    "    loss_linear.append(test_loss)\n",
    "    linear_params[l] = (model.W,model.b)\n",
    "print(\"Linear Combination of features\")\n",
    "for i in range(len(lrs)):\n",
    "    print(\"Learning Rate: \"+str(lrs[i])+\", Test Loss: \\t\",loss_linear[i])"
   ]
  },
  {
   "cell_type": "code",
   "execution_count": 138,
   "metadata": {
    "collapsed": true
   },
   "outputs": [],
   "source": [
    "import matplotlib.pyplot as plt"
   ]
  },
  {
   "cell_type": "code",
   "execution_count": 139,
   "metadata": {},
   "outputs": [
    {
     "data": {
      "text/plain": [
       "Text(0,0.5,'RMSE')"
      ]
     },
     "execution_count": 139,
     "metadata": {},
     "output_type": "execute_result"
    },
    {
     "data": {
      "image/png": "[encoded data removed]",
      "text/plain": [
       "<matplotlib.figure.Figure at 0x7ff2f0be9c18>"
      ]
     },
     "metadata": {},
     "output_type": "display_data"
    }
   ],
   "source": [
    "%matplotlib inline\n",
    "plt.plot(lrs,loss_linear)\n",
    "plt.xlabel(\"Learning Rate\")\n",
    "plt.ylabel(\"RMSE\")"
   ]
  },
  {
   "cell_type": "code",
   "execution_count": 140,
   "metadata": {},
   "outputs": [],
   "source": [
    "X_train_q = data[:no_train,:-1]\n",
    "y_train_q = data[:no_train,-1]\n",
    "X_test_q = data[no_train:,:-1]\n",
    "y_test_q = data[no_train:,-1].reshape(-1,1)\n",
    "for i in range(no_of_features):\n",
    "    for j in range(i,no_of_features):\n",
    "        new = X_train_q[:,i]*X_train_q[:,j]\n",
    "        new = new.reshape(new.shape[0],1)\n",
    "        X_train_q = np.concatenate((X_train_q,new),axis=1)\n",
    "        new = X_test_q[:,i]*X_test_q[:,j]\n",
    "        new = new.reshape(new.shape[0],1)\n",
    "        X_test_q = np.concatenate((X_test_q,new),axis=1)\n",
    "        \n",
    "X_mean_q = np.mean(X_train_q,axis=0)\n",
    "X_std_q = np.std(X_train_q,axis=0)\n",
    "X_train_q = (X_train_q - X_mean_q)/X_std_q\n",
    "X_test_q = (X_test_q-X_mean_q)/X_std_q\n",
    "\n",
    "y_mean_q = np.mean(y_train_q,axis=0)\n",
    "y_std_q = np.std(y_train_q,axis=0)\n",
    "y_train_q = (y_train_q - y_mean_q)/y_std_q\n",
    "\n",
    "#print(X_train_q.shape,X_test_q.shape,y_train_q.shape,y_test_q.shape)"
   ]
  },
  {
   "cell_type": "code",
   "execution_count": 141,
   "metadata": {},
   "outputs": [
    {
     "name": "stdout",
     "output_type": "stream",
     "text": [
      "Quadratic Combination of features\n",
      "Learning Rate: 0.001, Test Loss: \t 316463.628618\n",
      "Learning Rate: 0.002, Test Loss: \t 311210.395074\n",
      "Learning Rate: 0.005, Test Loss: \t 306569.323985\n",
      "Learning Rate: 0.01, Test Loss: \t 303928.714119\n",
      "Learning Rate: 0.02, Test Loss: \t 303489.892187\n",
      "Learning Rate: 0.05, Test Loss: \t 303833.429295\n",
      "Learning Rate: 0.08, Test Loss: \t 303257.391293\n",
      "Learning Rate: 0.1, Test Loss: \t 303174.056711\n"
     ]
    }
   ],
   "source": [
    "no_of_epochs = 1000\n",
    "no_of_features_q = X_train_q.shape[1]\n",
    "losses = {}\n",
    "loss_quad = []\n",
    "quad_params = {}\n",
    "for l in lrs:\n",
    "    model = Linear_model(no_of_features_q, X_train_q,y_train_q)\n",
    "    losses[l] = []\n",
    "    for i in range(no_of_epochs):\n",
    "        loss = model.train(lr=l)\n",
    "        losses[l].append(loss)\n",
    "    pred_test = model.evaluate(X_test_q)\n",
    "    pred_test = pred_test*y_std_q + y_mean_q\n",
    "    #test_loss = np.sqrt(np.sum((np.square(pred_test - y_test_q)))/X_test_q.shape[0])\n",
    "    test_loss = np.sqrt(np.mean(np.square(pred_test - y_test_q)))\n",
    "    loss_quad.append(test_loss)\n",
    "    quad_params[l] = (model.W,model.b)\n",
    "print(\"Quadratic Combination of features\")\n",
    "for i in range(len(lrs)):\n",
    "    print(\"Learning Rate: \"+str(lrs[i])+\", Test Loss: \\t\",loss_quad[i])"
   ]
  },
  {
   "cell_type": "code",
   "execution_count": 142,
   "metadata": {},
   "outputs": [
    {
     "data": {
      "text/plain": [
       "Text(0,0.5,'RMSE')"
      ]
     },
     "execution_count": 142,
     "metadata": {},
     "output_type": "execute_result"
    },
    {
     "data": {
      "image/png": "[encoded data removed]",
      "text/plain": [
       "<matplotlib.figure.Figure at 0x7ff2f0f48780>"
      ]
     },
     "metadata": {},
     "output_type": "display_data"
    }
   ],
   "source": [
    "plt.plot(lrs,loss_quad)\n",
    "plt.xlabel(\"Learning Rate\")\n",
    "plt.ylabel(\"RMSE\")"
   ]
  },
  {
   "cell_type": "code",
   "execution_count": 143,
   "metadata": {},
   "outputs": [],
   "source": [
    "X_train_c = data[:no_train,:-1]\n",
    "y_train_c = data[:no_train,-1]\n",
    "X_test_c = data[no_train:,:-1]\n",
    "y_test_c = data[no_train:,-1].reshape(-1,1)\n",
    "for i in range(no_of_features):\n",
    "    for j in range(i,no_of_features):\n",
    "        for k in range(j,no_of_features):\n",
    "            new = X_train_c[:,i]*X_train_c[:,j]\n",
    "            new = new.reshape(new.shape[0],1)\n",
    "            X_train_c = np.concatenate((X_train_c,new),axis=1)\n",
    "            new = X_test_c[:,i]*X_test_c[:,j]\n",
    "            new = new.reshape(new.shape[0],1)\n",
    "            X_test_c = np.concatenate((X_test_c,new),axis=1)\n",
    "        \n",
    "X_mean_c = np.mean(X_train_c,axis=0)\n",
    "X_std_c = np.std(X_train_c,axis=0)\n",
    "X_train_c = (X_train_c - X_mean_c)/X_std_c\n",
    "X_test_c = (X_test_c-X_mean_c)/X_std_c\n",
    "\n",
    "y_mean_c = np.mean(y_train_c,axis=0)\n",
    "y_std_c = np.std(y_train_c,axis=0)\n",
    "y_train_c = (y_train_c - y_mean_c)/y_std_c\n",
    "\n",
    "#print(X_train_c.shape,X_test_c.shape,y_train_c.shape,y_test_c.shape)"
   ]
  },
  {
   "cell_type": "code",
   "execution_count": 144,
   "metadata": {},
   "outputs": [
    {
     "name": "stdout",
     "output_type": "stream",
     "text": [
      "Linear Combination of features\n",
      "Learning Rate: 0.001, Test Loss: \t 312044.153217\n",
      "Learning Rate: 0.002, Test Loss: \t 312710.873313\n",
      "Learning Rate: 0.005, Test Loss: \t 307818.941928\n",
      "Learning Rate: 0.01, Test Loss: \t 306645.943339\n",
      "Learning Rate: 0.02, Test Loss: \t 304472.676446\n",
      "Learning Rate: 0.05, Test Loss: \t 303483.686151\n",
      "Learning Rate: 0.08, Test Loss: \t 303244.720328\n",
      "Learning Rate: 0.1, Test Loss: \t 303221.456756\n"
     ]
    }
   ],
   "source": [
    "no_of_epochs = 1000\n",
    "no_of_features_c = X_train_c.shape[1]\n",
    "losses = {}\n",
    "loss_cube = []\n",
    "cub_params = {}\n",
    "for l in lrs:\n",
    "    model = Linear_model(no_of_features_c, X_train_c,y_train_c)\n",
    "    losses[l] = []\n",
    "    for i in range(no_of_epochs):\n",
    "        loss = model.train(lr=l)\n",
    "        losses[l].append(loss)\n",
    "    pred_test = model.evaluate(X_test_c)\n",
    "    pred_test = (pred_test)*y_std_c + y_mean_c\n",
    "    #test_loss = np.sqrt(np.sum((np.square(pred_test - y_test_q)))/X_test_q.shape[0])\n",
    "    test_loss = np.sqrt(np.mean(np.square(pred_test - y_test_c)))\n",
    "    loss_cube.append(test_loss)\n",
    "    cub_params[l] = (model.W,model.b)\n",
    "print(\"Linear Combination of features\")\n",
    "for i in range(len(lrs)):\n",
    "    print(\"Learning Rate: \"+str(lrs[i])+\", Test Loss: \\t\",loss_cube[i])"
   ]
  },
  {
   "cell_type": "code",
   "execution_count": 145,
   "metadata": {},
   "outputs": [
    {
     "data": {
      "text/plain": [
       "Text(0,0.5,'RMSE')"
      ]
     },
     "execution_count": 145,
     "metadata": {},
     "output_type": "execute_result"
    },
    {
     "data": {
      "image/png": "[encoded data removed]",
      "text/plain": [
       "<matplotlib.figure.Figure at 0x7ff2f0b03e48>"
      ]
     },
     "metadata": {},
     "output_type": "display_data"
    }
   ],
   "source": [
    "plt.plot(lrs,loss_cube)\n",
    "plt.xlabel(\"Learning Rate\")\n",
    "plt.ylabel(\"RMSE\")"
   ]
  },
  {
   "cell_type": "code",
   "execution_count": 146,
   "metadata": {},
   "outputs": [
    {
     "data": {
      "image/png": "[encoded data removed]",
      "text/plain": [
       "<matplotlib.figure.Figure at 0x7ff2f0a93978>"
      ]
     },
     "metadata": {},
     "output_type": "display_data"
    }
   ],
   "source": [
    "lin_, = plt.plot(lrs,loss_linear)\n",
    "sqr_, = plt.plot(lrs,loss_quad)\n",
    "cub_, = plt.plot(lrs,loss_cube)\n",
    "plt.xlabel(\"Learning rate\")\n",
    "plt.ylabel(\"RMSE\")\n",
    "plt.legend([lin_, sqr_,cub_],[\"Linear\",\"Quadratic\",\"Cubic\"])\n",
    "plt.savefig(\"1c_TestRMSEvsLearningRate.png\")"
   ]
  },
  {
   "cell_type": "markdown",
   "metadata": {
    "collapsed": true
   },
   "source": [
    "**Preferred Combination of Features :** As is evident from the plot of different Learning rates vs Test RMSE, quadratic combination for function seems to work better compared to both Linear and Cubic combinations in general."
   ]
  },
  {
   "cell_type": "code",
   "execution_count": 147,
   "metadata": {},
   "outputs": [
    {
     "name": "stdout",
     "output_type": "stream",
     "text": [
      "Linear Combination of Features\n",
      "\n",
      "Learning Rate:  0.001\n",
      "W:  [[ 0.13023408  0.13590333  0.22919323  0.2583774 ]]\n",
      "B:  5.70262942324e-17\n",
      "\n",
      "Learning Rate:  0.002\n",
      "W:  [[ 0.05824802  0.1252119   0.14044848  0.32352888]]\n",
      "B:  8.5284854174e-17\n",
      "\n",
      "Learning Rate:  0.005\n",
      "W:  [[ 0.04443523  0.03732991  0.05413245  0.466231  ]]\n",
      "B:  1.37413376096e-16\n",
      "\n",
      "Learning Rate:  0.01\n",
      "W:  [[ 0.04291138  0.02818548  0.04481385  0.4814436 ]]\n",
      "B:  1.38894872083e-16\n",
      "\n",
      "Learning Rate:  0.02\n",
      "W:  [[ 0.04288976  0.02805764  0.04467967  0.48165951]]\n",
      "B:  1.3887021473e-16\n",
      "\n",
      "Learning Rate:  0.05\n",
      "W:  [[ 0.04288975  0.02805758  0.04467961  0.48165961]]\n",
      "B:  1.38142822803e-16\n",
      "\n",
      "Learning Rate:  0.08\n",
      "W:  [[ 0.04288975  0.02805758  0.04467961  0.48165961]]\n",
      "B:  1.38968844144e-16\n",
      "\n",
      "Learning Rate:  0.1\n",
      "W:  [[ 0.04288975  0.02805758  0.04467961  0.48165961]]\n",
      "B:  1.39190760325e-16\n",
      "\n"
     ]
    }
   ],
   "source": [
    "print(\"Linear Combination of Features\\n\")\n",
    "for (key,val) in linear_params.items():\n",
    "    print(\"Learning Rate: \",key)\n",
    "    print(\"W: \",val[0].T)\n",
    "    print(\"B: \",val[1])\n",
    "    print()"
   ]
  },
  {
   "cell_type": "code",
   "execution_count": 148,
   "metadata": {},
   "outputs": [
    {
     "name": "stdout",
     "output_type": "stream",
     "text": [
      "Quadratic Combination of Features\n",
      "\n",
      "Learning Rate:  0.001\n",
      "W:  [[ 0.0180407  -0.5335147  -0.22125778  0.20548923 -0.06729786 -0.31175639\n",
      "   0.07035724  0.33039539  0.18623357  0.38477806  0.27250281  0.14035198\n",
      "  -0.12611893  0.17145546]]\n",
      "B:  1.09226527957e-16\n",
      "\n",
      "Learning Rate:  0.002\n",
      "W:  [[ 0.44468439 -0.1720388  -0.33131643  0.10648573 -0.04516709 -0.07796143\n",
      "  -0.12445444 -0.1815536  -0.1026485   0.33474652  0.12575811  0.17851654\n",
      "   0.02228346  0.38785292]]\n",
      "B:  1.43183607763e-16\n",
      "\n",
      "Learning Rate:  0.005\n",
      "W:  [[ 0.01232917  0.35860985  0.09880835 -0.12728462 -0.04723773  0.16502405\n",
      "   0.12653775 -0.23388354 -0.09151423 -0.22818411 -0.13437211 -0.04043717\n",
      "   0.19912148  0.60369519]]\n",
      "B:  9.67071676899e-17\n",
      "\n",
      "Learning Rate:  0.01\n",
      "W:  [[ 0.28812432 -0.13241587 -0.12094905 -0.00575959 -0.03356024  0.00440327\n",
      "  -0.19040588 -0.0445494   0.04665895  0.3779656  -0.24882752  0.00141676\n",
      "  -0.05599396  0.70188312]]\n",
      "B:  8.32062392767e-17\n",
      "\n",
      "Learning Rate:  0.02\n",
      "W:  [[ 0.11463857 -0.07834634 -0.0229218  -0.25902779 -0.02277647  0.06093879\n",
      "  -0.08302089 -0.04261534  0.03110439  0.17011196 -0.05674345 -0.01816671\n",
      "   0.01353313  0.78737846]]\n",
      "B:  6.84118271961e-17\n",
      "\n",
      "Learning Rate:  0.05\n",
      "W:  [[ 0.08295     0.11881637  0.04003727 -0.28069776 -0.02170564  0.08550715\n",
      "  -0.04754874 -0.0757716  -0.1510338   0.25430744 -0.18470728 -0.01317022\n",
      "  -0.23751362  1.05125593]]\n",
      "B:  3.07600484509e-17\n",
      "\n",
      "Learning Rate:  0.08\n",
      "W:  [[ 0.09061248 -0.03443621  0.0131175  -0.18646033 -0.02229769  0.09766502\n",
      "  -0.05332516 -0.09032575 -0.00930013  0.43643601 -0.39197318 -0.00392286\n",
      "  -0.40691213  1.19298531]]\n",
      "B:  2.73039094065e-17\n",
      "\n",
      "Learning Rate:  0.1\n",
      "W:  [[  8.55917646e-02  -1.10201940e-01   4.80618949e-04  -1.43746422e-01\n",
      "   -2.26249013e-02   1.05461282e-01  -4.86466884e-02  -9.77810639e-02\n",
      "    5.22623466e-02   5.13192035e-01  -4.64692746e-01   3.54050406e-04\n",
      "   -4.77596793e-01   1.24132290e+00]]\n",
      "B:  2.67532285124e-17\n",
      "\n"
     ]
    }
   ],
   "source": [
    "print(\"Quadratic Combination of Features\\n\")\n",
    "for (key,val) in quad_params.items():\n",
    "    print(\"Learning Rate: \",key)\n",
    "    print(\"W: \",val[0].T)\n",
    "    print(\"B: \",val[1])\n",
    "    print()"
   ]
  },
  {
   "cell_type": "code",
   "execution_count": 149,
   "metadata": {},
   "outputs": [
    {
     "name": "stdout",
     "output_type": "stream",
     "text": [
      "Cubic Combination of Features\n",
      "\n",
      "Learning Rate:  0.001\n",
      "W:  [[ 0.25977922  0.36657341 -0.11131576  0.0381969  -0.25985316 -0.07308772\n",
      "   0.2562231  -0.10098219 -0.19131803 -0.16865699  0.0459678   0.14289665\n",
      "   0.18502473 -0.07623825 -0.22217098 -0.24805118  0.29546638 -0.08058951\n",
      "   0.03446264 -0.08810948 -0.42985175  0.41026233  0.44246752  0.14679672]]\n",
      "B:  1.38278643725e-16\n",
      "\n",
      "Learning Rate:  0.002\n",
      "W:  [[ 0.05961119 -0.34899338  0.06495774  0.40987408 -0.13222216  0.18839273\n",
      "  -0.24255342  0.16995915 -0.3409491   0.2601234   0.20451579  0.17634073\n",
      "  -0.2887499  -0.0170577   0.23189535  0.2281567  -0.31812565 -0.1606393\n",
      "   0.24222977  0.24186803 -0.17022154  0.16065619 -0.10076056  0.05250802]]\n",
      "B:  8.81068882784e-17\n",
      "\n",
      "Learning Rate:  0.005\n",
      "W:  [[ 0.20448823 -0.04190484 -0.18505977  0.14383748  0.18140436  0.15361629\n",
      "  -0.49019693  0.13178417  0.0779908  -0.01817264  0.19774877 -0.15091538\n",
      "  -0.05862735 -0.202978    0.19502746 -0.03441413 -0.18870501  0.09494492\n",
      "   0.12121597 -0.14077256  0.00222454 -0.00508613  0.25943008  0.3100761 ]]\n",
      "B:  1.40602393811e-16\n",
      "\n",
      "Learning Rate:  0.01\n",
      "W:  [[-0.05147127 -0.0594089   0.06142463 -0.05566401 -0.12751286 -0.10853915\n",
      "   0.05795625  0.14846218 -0.21287204  0.28627803  0.07053615 -0.17585933\n",
      "   0.25707278 -0.11552623 -0.17979441 -0.12904225  0.21411964  0.15952024\n",
      "  -0.18806225  0.32121112  0.15374787 -0.17764675  0.03643236  0.37209585]]\n",
      "B:  8.04857112774e-17\n",
      "\n",
      "Learning Rate:  0.02\n",
      "W:  [[ 0.16055289 -0.05720662 -0.14904614 -0.30668734  0.32068801 -0.03989426\n",
      "  -0.14210411 -0.15672769  0.3097212  -0.15720551 -0.12883233 -0.03402534\n",
      "  -0.11163249  0.00997363  0.06940518 -0.32926514  0.20561817  0.09073615\n",
      "   0.08293523  0.05896887  0.24827002 -0.26333987  0.2787478   0.58345688]]\n",
      "B:  1.09507416309e-16\n",
      "\n",
      "Learning Rate:  0.05\n",
      "W:  [[ 0.09467923 -0.01226297  0.02736467 -0.23263065 -0.14491447 -0.28729036\n",
      "   0.43071238 -0.02063865  0.02734419 -0.25784749  0.31952031  0.32238703\n",
      "  -0.38000359 -0.08111688 -0.4772311   0.25064268  0.17149721  0.37872197\n",
      "  -0.01365768 -0.26231722 -0.01409472  0.00564897 -0.34278159  1.11965793]]\n",
      "B:  2.93833462156e-17\n",
      "\n",
      "Learning Rate:  0.08\n",
      "W:  [[  8.61407400e-02  -5.95977606e-02   8.43780046e-03  -1.59950512e-01\n",
      "   -1.01231427e-01  -1.53824636e-01   1.47139532e-01   8.54217737e-02\n",
      "    1.23082696e-01  -1.99796003e-02  -7.62004443e-05  -7.90054466e-02\n",
      "    3.01685412e-02  -9.58135169e-02   1.11147893e-01   3.11949623e-01\n",
      "   -4.08937343e-01  -1.23152314e-01   6.05376973e-01  -4.46322112e-01\n",
      "    2.63125100e-02  -2.76698608e-02  -4.55965885e-01   1.23146536e+00]]\n",
      "B:  2.84052711948e-17\n",
      "\n",
      "Learning Rate:  0.1\n",
      "W:  [[ 0.08634286 -0.08295425  0.00372578 -0.15731958 -0.09808438  0.05068971\n",
      "   0.17472819 -0.14961226 -0.20063958 -0.1420684   0.44635844  0.16494375\n",
      "  -0.21396872 -0.09580331  0.04640279  0.11101337 -0.12892441  0.14869856\n",
      "   0.34228869 -0.44186306  0.07269725 -0.07355023 -0.45622494  1.22684266]]\n",
      "B:  2.42977670629e-17\n",
      "\n"
     ]
    }
   ],
   "source": [
    "print(\"Cubic Combination of Features\\n\")\n",
    "for (key,val) in cub_params.items():\n",
    "    print(\"Learning Rate: \",key)\n",
    "    print(\"W: \",val[0].T)\n",
    "    print(\"B: \",val[1])\n",
    "    print()"
   ]
  },
  {
   "cell_type": "code",
   "execution_count": null,
   "metadata": {
    "collapsed": true
   },
   "outputs": [],
   "source": []
  },
  {
   "cell_type": "code",
   "execution_count": null,
   "metadata": {
    "collapsed": true
   },
   "outputs": [],
   "source": []
  }
 ],
 "metadata": {
  "kernelspec": {
   "display_name": "Python 3",
   "language": "python",
   "name": "python3"
  },
  "language_info": {
   "codemirror_mode": {
    "name": "ipython",
    "version": 3
   },
   "file_extension": ".py",
   "mimetype": "text/x-python",
   "name": "python",
   "nbconvert_exporter": "python",
   "pygments_lexer": "ipython3",
   "version": "3.6.3"
  }
 },
 "nbformat": 4,
 "nbformat_minor": 2
}
