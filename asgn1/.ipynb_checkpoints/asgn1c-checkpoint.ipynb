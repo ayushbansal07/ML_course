{
 "cells": [
  {
   "cell_type": "code",
   "execution_count": 157,
   "metadata": {
    "collapsed": true
   },
   "outputs": [],
   "source": [
    "import pandas as pd\n",
    "import numpy as np"
   ]
  },
  {
   "cell_type": "code",
   "execution_count": 158,
   "metadata": {},
   "outputs": [
    {
     "data": {
      "text/html": [
       "<div>\n",
       "<style>\n",
       "    .dataframe thead tr:only-child th {\n",
       "        text-align: right;\n",
       "    }\n",
       "\n",
       "    .dataframe thead th {\n",
       "        text-align: left;\n",
       "    }\n",
       "\n",
       "    .dataframe tbody tr th {\n",
       "        vertical-align: top;\n",
       "    }\n",
       "</style>\n",
       "<table border=\"1\" class=\"dataframe\">\n",
       "  <thead>\n",
       "    <tr style=\"text-align: right;\">\n",
       "      <th></th>\n",
       "      <th>sqft</th>\n",
       "      <th>floors</th>\n",
       "      <th>bedrooms</th>\n",
       "      <th>bathrooms</th>\n",
       "      <th>price</th>\n",
       "    </tr>\n",
       "  </thead>\n",
       "  <tbody>\n",
       "    <tr>\n",
       "      <th>0</th>\n",
       "      <td>5650</td>\n",
       "      <td>1.0</td>\n",
       "      <td>3</td>\n",
       "      <td>1.00</td>\n",
       "      <td>221900.0</td>\n",
       "    </tr>\n",
       "    <tr>\n",
       "      <th>1</th>\n",
       "      <td>7242</td>\n",
       "      <td>2.0</td>\n",
       "      <td>3</td>\n",
       "      <td>2.25</td>\n",
       "      <td>538000.0</td>\n",
       "    </tr>\n",
       "    <tr>\n",
       "      <th>2</th>\n",
       "      <td>10000</td>\n",
       "      <td>1.0</td>\n",
       "      <td>2</td>\n",
       "      <td>1.00</td>\n",
       "      <td>180000.0</td>\n",
       "    </tr>\n",
       "    <tr>\n",
       "      <th>3</th>\n",
       "      <td>5000</td>\n",
       "      <td>1.0</td>\n",
       "      <td>4</td>\n",
       "      <td>3.00</td>\n",
       "      <td>604000.0</td>\n",
       "    </tr>\n",
       "    <tr>\n",
       "      <th>4</th>\n",
       "      <td>8080</td>\n",
       "      <td>1.0</td>\n",
       "      <td>3</td>\n",
       "      <td>2.00</td>\n",
       "      <td>510000.0</td>\n",
       "    </tr>\n",
       "  </tbody>\n",
       "</table>\n",
       "</div>"
      ],
      "text/plain": [
       "    sqft  floors  bedrooms  bathrooms     price\n",
       "0   5650     1.0         3       1.00  221900.0\n",
       "1   7242     2.0         3       2.25  538000.0\n",
       "2  10000     1.0         2       1.00  180000.0\n",
       "3   5000     1.0         4       3.00  604000.0\n",
       "4   8080     1.0         3       2.00  510000.0"
      ]
     },
     "execution_count": 158,
     "metadata": {},
     "output_type": "execute_result"
    }
   ],
   "source": [
    "raw_data = pd.read_csv(\"kc_house_data.csv\")\n",
    "raw_data.head()"
   ]
  },
  {
   "cell_type": "code",
   "execution_count": 159,
   "metadata": {
    "collapsed": true
   },
   "outputs": [],
   "source": [
    "data = np.array(raw_data)"
   ]
  },
  {
   "cell_type": "code",
   "execution_count": 160,
   "metadata": {
    "collapsed": true
   },
   "outputs": [],
   "source": [
    "no_of_examples = data.shape[0]\n",
    "no_of_features = data.shape[1]-1"
   ]
  },
  {
   "cell_type": "code",
   "execution_count": 161,
   "metadata": {},
   "outputs": [
    {
     "data": {
      "text/plain": [
       "17290"
      ]
     },
     "execution_count": 161,
     "metadata": {},
     "output_type": "execute_result"
    }
   ],
   "source": [
    "no_train = int(0.8*no_of_examples)\n",
    "no_train"
   ]
  },
  {
   "cell_type": "code",
   "execution_count": 162,
   "metadata": {
    "collapsed": true
   },
   "outputs": [],
   "source": [
    "X_train = data[:no_train,:-1]\n",
    "y_train = data[:no_train,-1]\n",
    "X_test = data[no_train:,:-1]\n",
    "y_test = data[no_train:,-1]"
   ]
  },
  {
   "cell_type": "code",
   "execution_count": 163,
   "metadata": {
    "collapsed": true
   },
   "outputs": [],
   "source": [
    "X_mean = np.mean(X_train,axis=0)\n",
    "X_std = np.std(X_train,axis=0)\n",
    "X_train = (X_train - X_mean)/X_std\n",
    "X_test = (X_test-X_mean)/X_std"
   ]
  },
  {
   "cell_type": "code",
   "execution_count": 164,
   "metadata": {
    "collapsed": true
   },
   "outputs": [],
   "source": [
    "y_mean = np.mean(y_train,axis=0)\n",
    "y_std = np.std(y_train,axis=0)\n",
    "y_train = (y_train - y_mean)/y_std"
   ]
  },
  {
   "cell_type": "code",
   "execution_count": null,
   "metadata": {
    "collapsed": true
   },
   "outputs": [],
   "source": []
  },
  {
   "cell_type": "code",
   "execution_count": 165,
   "metadata": {
    "collapsed": true
   },
   "outputs": [],
   "source": [
    "class Linear_model:\n",
    "    def __init__(self,m,X,y):\n",
    "        #self.W = np.zeros((m,1))\n",
    "        self.W = np.random.rand(m,1)\n",
    "        self.b = 0\n",
    "        self.X = X\n",
    "        self.N = X.shape[0]\n",
    "        self.y = y.reshape((self.N,1))\n",
    "        \n",
    "        \n",
    "    def train(self, lr = 0.1, reg = 0):\n",
    "        pred = (self.X).dot(self.W) + self.b\n",
    "        err = pred - self.y\n",
    "        err2 = err**2\n",
    "        loss = np.sum(err2)/self.N\n",
    "        loss += reg*np.sum(self.W**2)\n",
    "        \n",
    "        grad = (self.X).T.dot(err)\n",
    "        grad *= 2/self.N\n",
    "        \n",
    "        grad += 2*reg*self.W\n",
    "        \n",
    "        self.W -= lr*grad\n",
    "        self.b -= lr*np.sum(err)*2/self.N\n",
    "        \n",
    "        return loss\n",
    "    \n",
    "    def evaluate(self,X_test):\n",
    "        return (X_test).dot(self.W) + self.b      \n",
    "        \n",
    "        \n",
    "        "
   ]
  },
  {
   "cell_type": "code",
   "execution_count": 166,
   "metadata": {
    "collapsed": true
   },
   "outputs": [],
   "source": [
    "lrs = [0.001,0.002,0.005,0.01,0.02,0.05,0.08,0.1]"
   ]
  },
  {
   "cell_type": "code",
   "execution_count": 195,
   "metadata": {},
   "outputs": [
    {
     "data": {
      "text/plain": [
       "[436901.56552063162,\n",
       " 418123.13827297208,\n",
       " 420548.8477326085,\n",
       " 421240.21956370742,\n",
       " 421258.04952244891,\n",
       " 421258.05991709058,\n",
       " 421258.05991709064,\n",
       " 421258.05991709064]"
      ]
     },
     "execution_count": 195,
     "metadata": {},
     "output_type": "execute_result"
    }
   ],
   "source": [
    "no_of_epochs = 500\n",
    "model = Linear_model(no_of_features, X_train,y_train)\n",
    "loss_linear = []\n",
    "for lr in lrs:\n",
    "    for i in range(no_of_epochs):\n",
    "        loss = model.train(lr=lr)\n",
    "    pred_test = model.evaluate(X_test)\n",
    "    pred_test = (pred_test)*y_std + y_mean\n",
    "    #test_loss = np.sqrt(np.sum(((pred_test - y_test)**2))/X_test.shape[0])\n",
    "    test_loss = np.sqrt(np.mean(np.square(pred_test - y_test)))\n",
    "    loss_linear.append(test_loss)\n",
    "loss_linear"
   ]
  },
  {
   "cell_type": "code",
   "execution_count": 196,
   "metadata": {
    "collapsed": true
   },
   "outputs": [],
   "source": [
    "import matplotlib.pyplot as plt"
   ]
  },
  {
   "cell_type": "code",
   "execution_count": 197,
   "metadata": {},
   "outputs": [
    {
     "data": {
      "text/plain": [
       "Text(0,0.5,'RMSE')"
      ]
     },
     "execution_count": 197,
     "metadata": {},
     "output_type": "execute_result"
    },
    {
     "data": {
      "image/png": "[encoded data removed]",
      "text/plain": [
       "<matplotlib.figure.Figure at 0x7f5f69882978>"
      ]
     },
     "metadata": {},
     "output_type": "display_data"
    }
   ],
   "source": [
    "%matplotlib inline\n",
    "plt.plot(lrs,loss_linear)\n",
    "plt.xlabel(\"Learning Rate\")\n",
    "plt.ylabel(\"RMSE\")"
   ]
  },
  {
   "cell_type": "code",
   "execution_count": 198,
   "metadata": {},
   "outputs": [
    {
     "name": "stdout",
     "output_type": "stream",
     "text": [
      "(17290, 14) (4323, 14) (17290,) (4323,)\n"
     ]
    }
   ],
   "source": [
    "X_train_q = data[:no_train,:-1]\n",
    "y_train_q = data[:no_train,-1]\n",
    "X_test_q = data[no_train:,:-1]\n",
    "y_test_q = data[no_train:,-1]\n",
    "for i in range(no_of_features):\n",
    "    for j in range(i,no_of_features):\n",
    "        new = X_train_q[:,i]*X_train_q[:,j]\n",
    "        new = new.reshape(new.shape[0],1)\n",
    "        X_train_q = np.concatenate((X_train_q,new),axis=1)\n",
    "        new = X_test_q[:,i]*X_test_q[:,j]\n",
    "        new = new.reshape(new.shape[0],1)\n",
    "        X_test_q = np.concatenate((X_test_q,new),axis=1)\n",
    "        \n",
    "X_mean_q = np.mean(X_train_q,axis=0)\n",
    "X_std_q = np.std(X_train_q,axis=0)\n",
    "X_train_q = (X_train_q - X_mean_q)/X_std_q\n",
    "X_test_q = (X_test_q-X_mean_q)/X_std_q\n",
    "\n",
    "y_mean_q = np.mean(y_train_q,axis=0)\n",
    "y_std_q = np.std(y_train_q,axis=0)\n",
    "y_train_q = (y_train_q - y_mean_q)/y_std_q\n",
    "\n",
    "print(X_train_q.shape,X_test_q.shape,y_train_q.shape,y_test_q.shape)"
   ]
  },
  {
   "cell_type": "code",
   "execution_count": 199,
   "metadata": {},
   "outputs": [
    {
     "name": "stdout",
     "output_type": "stream",
     "text": [
      "14\n"
     ]
    },
    {
     "data": {
      "text/plain": [
       "[430419.66346345167,\n",
       " 433451.61106352392,\n",
       " 439904.43531224539,\n",
       " 443849.77618279576,\n",
       " 445193.42648543505,\n",
       " 445453.91214803612,\n",
       " 445488.03924294218,\n",
       " 445490.19870531582]"
      ]
     },
     "execution_count": 199,
     "metadata": {},
     "output_type": "execute_result"
    }
   ],
   "source": [
    "no_of_epochs = 3000\n",
    "no_of_features_q = X_train_q.shape[1]\n",
    "print(no_of_features_q)\n",
    "model = Linear_model(no_of_features_q, X_train_q,y_train_q)\n",
    "losses = {}\n",
    "loss_quad = []\n",
    "for lr in lrs:\n",
    "    losses[lr] = []\n",
    "    for i in range(no_of_epochs):\n",
    "        loss = model.train(lr=lr)\n",
    "        losses[lr].append(loss)\n",
    "    pred_test = model.evaluate(X_test_q)\n",
    "    pred_test = (pred_test)*y_std_q + y_mean_q\n",
    "    #test_loss = np.sqrt(np.sum((np.square(pred_test - y_test_q)))/X_test_q.shape[0])\n",
    "    test_loss = np.sqrt(np.mean(np.square(pred_test - y_test_q)))\n",
    "    loss_quad.append(test_loss)\n",
    "loss_quad"
   ]
  },
  {
   "cell_type": "code",
   "execution_count": 200,
   "metadata": {},
   "outputs": [
    {
     "data": {
      "text/plain": [
       "Text(0,0.5,'RMSE')"
      ]
     },
     "execution_count": 200,
     "metadata": {},
     "output_type": "execute_result"
    },
    {
     "data": {
      "image/png": "[encoded data removed]",
      "text/plain": [
       "<matplotlib.figure.Figure at 0x7f5f69509748>"
      ]
     },
     "metadata": {},
     "output_type": "display_data"
    }
   ],
   "source": [
    "plt.plot(lrs,loss_quad)\n",
    "plt.xlabel(\"Learning Rate\")\n",
    "plt.ylabel(\"RMSE\")"
   ]
  },
  {
   "cell_type": "code",
   "execution_count": 194,
   "metadata": {},
   "outputs": [
    {
     "data": {
      "text/plain": [
       "[<matplotlib.lines.Line2D at 0x7f5f694cb8d0>]"
      ]
     },
     "execution_count": 194,
     "metadata": {},
     "output_type": "execute_result"
    },
    {
     "data": {
      "image/png": "[encoded data removed]",
      "text/plain": [
       "<matplotlib.figure.Figure at 0x7f5f69621208>"
      ]
     },
     "metadata": {},
     "output_type": "display_data"
    }
   ],
   "source": []
  },
  {
   "cell_type": "code",
   "execution_count": null,
   "metadata": {
    "collapsed": true
   },
   "outputs": [],
   "source": []
  },
  {
   "cell_type": "code",
   "execution_count": null,
   "metadata": {
    "collapsed": true
   },
   "outputs": [],
   "source": []
  },
  {
   "cell_type": "code",
   "execution_count": null,
   "metadata": {
    "collapsed": true
   },
   "outputs": [],
   "source": []
  },
  {
   "cell_type": "code",
   "execution_count": null,
   "metadata": {
    "collapsed": true
   },
   "outputs": [],
   "source": []
  },
  {
   "cell_type": "code",
   "execution_count": null,
   "metadata": {
    "collapsed": true
   },
   "outputs": [],
   "source": []
  }
 ],
 "metadata": {
  "kernelspec": {
   "display_name": "Python 3",
   "language": "python",
   "name": "python3"
  },
  "language_info": {
   "codemirror_mode": {
    "name": "ipython",
    "version": 3
   },
   "file_extension": ".py",
   "mimetype": "text/x-python",
   "name": "python",
   "nbconvert_exporter": "python",
   "pygments_lexer": "ipython3",
   "version": "3.6.3"
  }
 },
 "nbformat": 4,
 "nbformat_minor": 2
}
